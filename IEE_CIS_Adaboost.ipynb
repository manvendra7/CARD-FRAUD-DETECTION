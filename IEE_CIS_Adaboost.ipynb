{
  "nbformat": 4,
  "nbformat_minor": 0,
  "metadata": {
    "colab": {
      "name": "IEE_CIS_Adaboost.ipynb",
      "provenance": [],
      "collapsed_sections": [],
      "machine_shape": "hm"
    },
    "kernelspec": {
      "name": "python3",
      "display_name": "Python 3"
    },
    "accelerator": "GPU"
  },
  "cells": [
    {
      "cell_type": "code",
      "metadata": {
        "id": "Tu0Wtos1WBdZ",
        "colab_type": "code",
        "outputId": "874b0d26-6541-40d8-f8b1-372c1f802de7",
        "colab": {
          "base_uri": "https://localhost:8080/",
          "height": 34
        }
      },
      "source": [
        "from google.colab import drive      #mounting drive\n",
        "drive.mount('/content/drive')"
      ],
      "execution_count": 0,
      "outputs": [
        {
          "output_type": "stream",
          "text": [
            "Drive already mounted at /content/drive; to attempt to forcibly remount, call drive.mount(\"/content/drive\", force_remount=True).\n"
          ],
          "name": "stdout"
        }
      ]
    },
    {
      "cell_type": "code",
      "metadata": {
        "id": "jmsF0tpHWGFn",
        "colab_type": "code",
        "colab": {}
      },
      "source": [
        "import pandas as pd   #importing pandas\n",
        "import numpy as np    #importing numpy\n",
        "identity = pd.read_csv('/content/drive/My Drive/Fraud detection/train_identity.csv')   #reading identity data"
      ],
      "execution_count": 0,
      "outputs": []
    },
    {
      "cell_type": "code",
      "metadata": {
        "id": "l5M-bjGaWGI-",
        "colab_type": "code",
        "outputId": "32f1eb09-34f7-4024-9860-5ae626c953be",
        "colab": {
          "base_uri": "https://localhost:8080/",
          "height": 34
        }
      },
      "source": [
        "print(f'identity has {identity.shape[0]} rows and {identity.shape[1]} columns')     #getting the rows and columns of dataset"
      ],
      "execution_count": 0,
      "outputs": [
        {
          "output_type": "stream",
          "text": [
            "identity has 144233 rows and 41 columns\n"
          ],
          "name": "stdout"
        }
      ]
    },
    {
      "cell_type": "code",
      "metadata": {
        "id": "kfiW4HhEWGL2",
        "colab_type": "code",
        "colab": {}
      },
      "source": [
        "transaction = pd.read_csv('/content/drive/My Drive/Fraud detection/train_transaction.csv')  #reading the transaction data"
      ],
      "execution_count": 0,
      "outputs": []
    },
    {
      "cell_type": "code",
      "metadata": {
        "id": "ss0nvsEnWGO2",
        "colab_type": "code",
        "outputId": "d5d45091-bcc9-414c-d557-4cbc1644191a",
        "colab": {
          "base_uri": "https://localhost:8080/",
          "height": 34
        }
      },
      "source": [
        "print(f'transaction has {transaction.shape[0]} rows and {transaction.shape[1]} columns')   #checking the rows and columns of transaction data"
      ],
      "execution_count": 0,
      "outputs": [
        {
          "output_type": "stream",
          "text": [
            "transaction has 590540 rows and 394 columns\n"
          ],
          "name": "stdout"
        }
      ]
    },
    {
      "cell_type": "code",
      "metadata": {
        "id": "AGzZvu2QWGRN",
        "colab_type": "code",
        "colab": {}
      },
      "source": [
        "train = pd.merge(transaction,identity, on ='TransactionID', how='left')   #merging transaction and identity data"
      ],
      "execution_count": 0,
      "outputs": []
    },
    {
      "cell_type": "code",
      "metadata": {
        "id": "CbVQD1G6WGT4",
        "colab_type": "code",
        "outputId": "864b0c2b-f1dc-4799-e119-bbc0da586ce8",
        "colab": {
          "base_uri": "https://localhost:8080/",
          "height": 34
        }
      },
      "source": [
        "print(f'train data has {train.shape[0]} rows and {train.shape[1]} columns')  #checking the shape of train data"
      ],
      "execution_count": 0,
      "outputs": [
        {
          "output_type": "stream",
          "text": [
            "train data has 590540 rows and 434 columns\n"
          ],
          "name": "stdout"
        }
      ]
    },
    {
      "cell_type": "code",
      "metadata": {
        "id": "TboPu80RfgAu",
        "colab_type": "code",
        "colab": {}
      },
      "source": [
        "train['Transaction_hour'] = np.floor(train['TransactionDT'] / 3600) % 24"
      ],
      "execution_count": 0,
      "outputs": []
    },
    {
      "cell_type": "code",
      "metadata": {
        "id": "MB5XN7oUfgam",
        "colab_type": "code",
        "colab": {}
      },
      "source": [
        "train['transaction_day'] = np.floor((train['TransactionDT'] / (3600 * 24) - 1) % 7)"
      ],
      "execution_count": 0,
      "outputs": []
    },
    {
      "cell_type": "code",
      "metadata": {
        "id": "bdXcC7wZf2aH",
        "colab_type": "code",
        "colab": {}
      },
      "source": [
        "null_cols = [col for col in train.columns if train[col].isnull().sum() / train.shape[0] > 0.9]"
      ],
      "execution_count": 0,
      "outputs": []
    },
    {
      "cell_type": "code",
      "metadata": {
        "id": "D0j7Ej0AWGWt",
        "colab_type": "code",
        "colab": {}
      },
      "source": [
        "for i in train.columns:\n",
        "    if train[i].dtypes=='int64' or train[i].dtypes=='float64':   #filling null alues with mean for continuous variables\n",
        "        train[i].fillna(train[i].mean(),inplace=True)"
      ],
      "execution_count": 0,
      "outputs": []
    },
    {
      "cell_type": "code",
      "metadata": {
        "id": "y_mZ3JCJfWqF",
        "colab_type": "code",
        "colab": {}
      },
      "source": [
        "for i in train.columns:\n",
        "    if train[i].dtypes=='object':     #filling null alues with mode for categorical variables\n",
        "        train[i].fillna(train[i].mode()[0],inplace=True)"
      ],
      "execution_count": 0,
      "outputs": []
    },
    {
      "cell_type": "code",
      "metadata": {
        "id": "qrGyF740ZGTQ",
        "colab_type": "code",
        "colab": {}
      },
      "source": [
        "#function to reduce the memory of dataset\n",
        "   def reduce_mem_usage(df):\n",
        "    \"\"\" iterate through all the columns of a dataframe and modify the data type\n",
        "        to reduce memory usage.        \n",
        "    \"\"\"\n",
        "    start_mem = df.memory_usage().sum() / 1024**2\n",
        "    print('Memory usage of dataframe is {:.2f} MB'.format(start_mem))\n",
        "    \n",
        "    for col in df.columns:\n",
        "        col_type = df[col].dtype\n",
        "        \n",
        "        if col_type != object:\n",
        "            c_min = df[col].min()\n",
        "            c_max = df[col].max()\n",
        "            if str(col_type)[:3] == 'int':\n",
        "                if c_min > np.iinfo(np.int8).min and c_max < np.iinfo(np.int8).max:\n",
        "                    df[col] = df[col].astype(np.int8)\n",
        "                elif c_min > np.iinfo(np.int16).min and c_max < np.iinfo(np.int16).max:\n",
        "                    df[col] = df[col].astype(np.int16)\n",
        "                elif c_min > np.iinfo(np.int32).min and c_max < np.iinfo(np.int32).max:\n",
        "                    df[col] = df[col].astype(np.int32)\n",
        "                elif c_min > np.iinfo(np.int64).min and c_max < np.iinfo(np.int64).max:\n",
        "                    df[col] = df[col].astype(np.int64)  \n",
        "            else:\n",
        "                if c_min > np.finfo(np.float16).min and c_max < np.finfo(np.float16).max:\n",
        "                    df[col] = df[col].astype(np.float16)\n",
        "                elif c_min > np.finfo(np.float32).min and c_max < np.finfo(np.float32).max:\n",
        "                    df[col] = df[col].astype(np.float32)\n",
        "                else:\n",
        "                    df[col] = df[col].astype(np.float64)\n",
        "        else:\n",
        "            df[col] = df[col].astype('category')\n",
        "\n",
        "    end_mem = df.memory_usage().sum() / 1024**2\n",
        "    print('Memory usage after optimization is: {:.2f} MB'.format(end_mem))\n",
        "    print('Decreased by {:.1f}%'.format(100 * (start_mem - end_mem) / start_mem))\n",
        "    \n",
        "    return df"
      ],
      "execution_count": 0,
      "outputs": []
    },
    {
      "cell_type": "code",
      "metadata": {
        "id": "ngZcJ34WWGbH",
        "colab_type": "code",
        "colab": {}
      },
      "source": [
        "cat_cols = ['id_12','id_15', 'id_16', 'id_23', \n",
        "            'id_27', 'id_28', 'id_29','id_30', 'id_31', 'id_33', 'id_34', 'id_35', \n",
        "            'id_36', 'id_37', 'id_38', 'DeviceType', 'DeviceInfo', 'ProductCD', 'card4', 'card6', 'M4','P_emaildomain',\n",
        "            'R_emaildomain', 'addr1', 'addr2', 'M1', 'M2', 'M3', 'M5', 'M6', 'M7', 'M8', 'M9']"
      ],
      "execution_count": 0,
      "outputs": []
    },
    {
      "cell_type": "code",
      "metadata": {
        "id": "J6WzP-TEaGtT",
        "colab_type": "code",
        "colab": {}
      },
      "source": [
        "from sklearn.preprocessing import LabelEncoder\n",
        "le = LabelEncoder()\n",
        "for i in cat_cols:\n",
        "  if i in train.columns:\n",
        "    train[i] = le.fit_transform(train[i].astype(str).values)"
      ],
      "execution_count": 0,
      "outputs": []
    },
    {
      "cell_type": "code",
      "metadata": {
        "id": "Jn3N927bjJbv",
        "colab_type": "code",
        "colab": {}
      },
      "source": [
        "train_vcol =[]\n",
        "for i in range(1,340):\n",
        "  train_vcol.append('V'+str(i))"
      ],
      "execution_count": 0,
      "outputs": []
    },
    {
      "cell_type": "code",
      "metadata": {
        "id": "GYwAFb15jSBv",
        "colab_type": "code",
        "colab": {}
      },
      "source": [
        "vcol=train[train_vcol]"
      ],
      "execution_count": 0,
      "outputs": []
    },
    {
      "cell_type": "code",
      "metadata": {
        "id": "2GOxmeoojSF9",
        "colab_type": "code",
        "outputId": "b65661dc-94e1-4c84-ded5-6aaee4d6c836",
        "colab": {
          "base_uri": "https://localhost:8080/",
          "height": 51
        }
      },
      "source": [
        "from sklearn.decomposition import PCA\n",
        "pca = PCA(n_components = 3)\n",
        "pca.fit(vcol)\n",
        "  "
      ],
      "execution_count": 0,
      "outputs": [
        {
          "output_type": "execute_result",
          "data": {
            "text/plain": [
              "PCA(copy=True, iterated_power='auto', n_components=3, random_state=None,\n",
              "    svd_solver='auto', tol=0.0, whiten=False)"
            ]
          },
          "metadata": {
            "tags": []
          },
          "execution_count": 106
        }
      ]
    },
    {
      "cell_type": "code",
      "metadata": {
        "id": "Nef_yB-kjncO",
        "colab_type": "code",
        "colab": {}
      },
      "source": [
        "vcol1=pca.transform(vcol)"
      ],
      "execution_count": 0,
      "outputs": []
    },
    {
      "cell_type": "code",
      "metadata": {
        "id": "5H72z4KMjZbN",
        "colab_type": "code",
        "colab": {}
      },
      "source": [
        "train.drop(vcol,axis=1,inplace=True)"
      ],
      "execution_count": 0,
      "outputs": []
    },
    {
      "cell_type": "code",
      "metadata": {
        "id": "MdQ4m_a6jZ1P",
        "colab_type": "code",
        "colab": {}
      },
      "source": [
        "vcol1 = pd.DataFrame(vcol1)"
      ],
      "execution_count": 0,
      "outputs": []
    },
    {
      "cell_type": "code",
      "metadata": {
        "id": "ZL_4uUQpjZ41",
        "colab_type": "code",
        "colab": {}
      },
      "source": [
        "train=pd.concat([train,vcol1],axis=1)"
      ],
      "execution_count": 0,
      "outputs": []
    },
    {
      "cell_type": "code",
      "metadata": {
        "id": "NMuDn_efZGN-",
        "colab_type": "code",
        "outputId": "b3d7bc43-dafb-4cc1-f78c-cc2d540e9576",
        "colab": {
          "base_uri": "https://localhost:8080/",
          "height": 68
        }
      },
      "source": [
        "train = reduce_mem_usage(train)"
      ],
      "execution_count": 0,
      "outputs": [
        {
          "output_type": "stream",
          "text": [
            "Memory usage of dataframe is 455.05 MB\n",
            "Memory usage after optimization is: 107.00 MB\n",
            "Decreased by 76.5%\n"
          ],
          "name": "stdout"
        }
      ]
    },
    {
      "cell_type": "code",
      "metadata": {
        "id": "Jso0zJuhaGyC",
        "colab_type": "code",
        "outputId": "67cc0f7f-43bb-4cba-dbfe-4af137239a0a",
        "colab": {
          "base_uri": "https://localhost:8080/",
          "height": 34
        }
      },
      "source": [
        "y= train['isFraud']\n",
        "print(y.shape)"
      ],
      "execution_count": 0,
      "outputs": [
        {
          "output_type": "stream",
          "text": [
            "(590540,)\n"
          ],
          "name": "stdout"
        }
      ]
    },
    {
      "cell_type": "code",
      "metadata": {
        "id": "HNPZw7ZVaHcZ",
        "colab_type": "code",
        "outputId": "6765b117-62fe-45e3-c14b-060f534b558a",
        "colab": {
          "base_uri": "https://localhost:8080/",
          "height": 34
        }
      },
      "source": [
        "x = train.drop(['isFraud','TransactionID','TransactionDT'],axis=1)\n",
        "print(x.shape)"
      ],
      "execution_count": 0,
      "outputs": [
        {
          "output_type": "stream",
          "text": [
            "(590540, 97)\n"
          ],
          "name": "stdout"
        }
      ]
    },
    {
      "cell_type": "code",
      "metadata": {
        "id": "j1Uak6NqaHgj",
        "colab_type": "code",
        "colab": {}
      },
      "source": [
        "from sklearn.model_selection import train_test_split\n",
        "x_train,x_test,y_train,y_test = train_test_split(x,y,stratify = y,test_size = 0.3, random_state=1)"
      ],
      "execution_count": 0,
      "outputs": []
    },
    {
      "cell_type": "markdown",
      "metadata": {
        "id": "qKLWqL4Ki3Rj",
        "colab_type": "text"
      },
      "source": [
        "##DECISION TREE CLASSIFIER"
      ]
    },
    {
      "cell_type": "code",
      "metadata": {
        "id": "qZRx6bopufua",
        "colab_type": "code",
        "outputId": "bd2c3db4-b888-42a3-afde-69136d7492f3",
        "colab": {
          "base_uri": "https://localhost:8080/",
          "height": 119
        }
      },
      "source": [
        "from sklearn.tree import DecisionTreeClassifier\n",
        "model = DecisionTreeClassifier(random_state=1)\n",
        "model.fit(x_train,y_train)"
      ],
      "execution_count": 0,
      "outputs": [
        {
          "output_type": "execute_result",
          "data": {
            "text/plain": [
              "DecisionTreeClassifier(class_weight=None, criterion='gini', max_depth=None,\n",
              "                       max_features=None, max_leaf_nodes=None,\n",
              "                       min_impurity_decrease=0.0, min_impurity_split=None,\n",
              "                       min_samples_leaf=1, min_samples_split=2,\n",
              "                       min_weight_fraction_leaf=0.0, presort=False,\n",
              "                       random_state=1, splitter='best')"
            ]
          },
          "metadata": {
            "tags": []
          },
          "execution_count": 115
        }
      ]
    },
    {
      "cell_type": "code",
      "metadata": {
        "id": "V7r7kLr2aVh3",
        "colab_type": "code",
        "colab": {}
      },
      "source": [
        "predict = model.predict(x_test)"
      ],
      "execution_count": 0,
      "outputs": []
    },
    {
      "cell_type": "code",
      "metadata": {
        "id": "bIUmUqKPbWbM",
        "colab_type": "code",
        "outputId": "97fa97e8-0ee3-4029-a565-5a3dedd88bb6",
        "colab": {
          "base_uri": "https://localhost:8080/",
          "height": 34
        }
      },
      "source": [
        "from sklearn.metrics import roc_auc_score,confusion_matrix\n",
        "roc_auc_score(y_test,predict)"
      ],
      "execution_count": 0,
      "outputs": [
        {
          "output_type": "execute_result",
          "data": {
            "text/plain": [
              "0.7743714560264565"
            ]
          },
          "metadata": {
            "tags": []
          },
          "execution_count": 117
        }
      ]
    },
    {
      "cell_type": "code",
      "metadata": {
        "id": "W3tCjXfsjCt2",
        "colab_type": "code",
        "outputId": "b397193c-65d4-4426-874b-1d7e21038b39",
        "colab": {
          "base_uri": "https://localhost:8080/",
          "height": 299
        }
      },
      "source": [
        "import seaborn as sns\n",
        "import matplotlib.pyplot as plt\n",
        "cm = confusion_matrix(y_test,predict)\n",
        "sns.heatmap(cm,annot=True,fmt='.2f')\n",
        "plt.title('confusion_matrix')         #checking the confusion matrix\n",
        "plt.xlabel('Actual Class')\n",
        "plt.ylabel('predicted class')\n",
        "plt.show()"
      ],
      "execution_count": 0,
      "outputs": [
        {
          "output_type": "display_data",
          "data": {
            "image/png": "[encoded data removed]",
            "text/plain": [
              "<Figure size 432x288 with 2 Axes>"
            ]
          },
          "metadata": {
            "tags": []
          }
        }
      ]
    },
    {
      "cell_type": "markdown",
      "metadata": {
        "id": "ufxbh2HkKSBw",
        "colab_type": "text"
      },
      "source": [
        "##AdaBoost Classifier"
      ]
    },
    {
      "cell_type": "code",
      "metadata": {
        "id": "hEl4btWVmetS",
        "colab_type": "code",
        "colab": {}
      },
      "source": [
        "from sklearn.ensemble import AdaBoostClassifier"
      ],
      "execution_count": 0,
      "outputs": []
    },
    {
      "cell_type": "code",
      "metadata": {
        "id": "EcoP8x88meqi",
        "colab_type": "code",
        "colab": {}
      },
      "source": [
        "acc = []\n",
        "roc= []\n",
        "for i in np.arange(50,500,step=50):\n",
        "  classifier = AdaBoostClassifier(\n",
        "      model,\n",
        "      n_estimators= i \n",
        "  )\n",
        "  classifier.fit(x_train, y_train)\n",
        "  predict=classifier.predict(x_test)\n",
        "  acc.append(classifier.score(x_test,y_test))\n",
        "  roc.append(roc_auc_score(y_test,predict))"
      ],
      "execution_count": 0,
      "outputs": []
    },
    {
      "cell_type": "code",
      "metadata": {
        "id": "mSuMtEXhlVE9",
        "colab_type": "code",
        "outputId": "3d7d8a82-9cf3-40d5-9323-cac42bd49724",
        "colab": {
          "base_uri": "https://localhost:8080/",
          "height": 299
        }
      },
      "source": [
        "import matplotlib.pyplot as plt\n",
        "from matplotlib import style\n",
        "style.use('ggplot')\n",
        "plt.xticks(np.arange(0,9,step=1),np.arange(50,500,step=50))\n",
        "plt.title('Accuracy with different estimators')\n",
        "plt.xlabel('Number of estimators')\n",
        "plt.ylabel('Accuracy')\n",
        "plt.plot(acc)\n",
        "plt.show()"
      ],
      "execution_count": 0,
      "outputs": [
        {
          "output_type": "display_data",
          "data": {
            "image/png": "[encoded data removed]",
            "text/plain": [
              "<Figure size 432x288 with 1 Axes>"
            ]
          },
          "metadata": {
            "tags": []
          }
        }
      ]
    },
    {
      "cell_type": "code",
      "metadata": {
        "id": "hDdEjnhlJCg3",
        "colab_type": "code",
        "outputId": "f93abc46-1788-498e-db2d-6ae2db035263",
        "colab": {
          "base_uri": "https://localhost:8080/",
          "height": 299
        }
      },
      "source": [
        "import matplotlib.pyplot as plt\n",
        "plt.plot(roc)   \n",
        "plt.xticks(np.arange(0,9,step=1),np.arange(50,500,step=50))\n",
        "plt.title('Auc with different estimators')\n",
        "plt.xlabel('Number of estimators')\n",
        "plt.ylabel('Auc score')\n",
        "plt.show()"
      ],
      "execution_count": 0,
      "outputs": [
        {
          "output_type": "display_data",
          "data": {
            "image/png": "[encoded data removed]",
            "text/plain": [
              "<Figure size 432x288 with 1 Axes>"
            ]
          },
          "metadata": {
            "tags": []
          }
        }
      ]
    },
    {
      "cell_type": "markdown",
      "metadata": {
        "id": "bZDeOUGIUv5b",
        "colab_type": "text"
      },
      "source": [
        "As we can see from above graph our model achives highest auc score with 500 estimators."
      ]
    },
    {
      "cell_type": "code",
      "metadata": {
        "id": "XXJfFOMPW1MU",
        "colab_type": "code",
        "colab": {}
      },
      "source": [
        "classifier = AdaBoostClassifier( model,n_estimators=500,random_state=1)\n",
        "classifier.fit(x_train, y_train)\n",
        "predict=classifier.predict(x_test)"
      ],
      "execution_count": 0,
      "outputs": []
    },
    {
      "cell_type": "code",
      "metadata": {
        "id": "9VWRM9Yzmemc",
        "colab_type": "code",
        "colab": {}
      },
      "source": [
        "predictions = classifier.predict(x_test)"
      ],
      "execution_count": 0,
      "outputs": []
    },
    {
      "cell_type": "code",
      "metadata": {
        "id": "i0YyBIerWA_V",
        "colab_type": "code",
        "outputId": "909ca26f-3e4a-434b-b835-6ab1af4f5943",
        "colab": {
          "base_uri": "https://localhost:8080/",
          "height": 299
        }
      },
      "source": [
        "import seaborn as sns\n",
        "import matplotlib.pyplot as plt\n",
        "cm = confusion_matrix(y_test,predict)\n",
        "sns.heatmap(cm,annot=True,fmt='.2f')\n",
        "plt.title('confusion_matrix')         #checking the confusion matrix\n",
        "plt.xlabel('Actual Class')\n",
        "plt.ylabel('predicted class')\n",
        "plt.show()"
      ],
      "execution_count": 0,
      "outputs": [
        {
          "output_type": "display_data",
          "data": {
            "image/png": "[encoded data removed]",
            "text/plain": [
              "<Figure size 432x288 with 2 Axes>"
            ]
          },
          "metadata": {
            "tags": []
          }
        }
      ]
    },
    {
      "cell_type": "code",
      "metadata": {
        "id": "14aRMZrQWLa6",
        "colab_type": "code",
        "outputId": "a283ba70-8ce3-47a7-8184-dda24d56b3d8",
        "colab": {
          "base_uri": "https://localhost:8080/",
          "height": 34
        }
      },
      "source": [
        "roc_auc_score(y_test,predictions)"
      ],
      "execution_count": 0,
      "outputs": [
        {
          "output_type": "execute_result",
          "data": {
            "text/plain": [
              "0.7702327987304264"
            ]
          },
          "metadata": {
            "tags": []
          },
          "execution_count": 139
        }
      ]
    },
    {
      "cell_type": "code",
      "metadata": {
        "id": "kWIUPHzAVCN-",
        "colab_type": "code",
        "colab": {}
      },
      "source": [
        ""
      ],
      "execution_count": 0,
      "outputs": []
    }
  ]
}