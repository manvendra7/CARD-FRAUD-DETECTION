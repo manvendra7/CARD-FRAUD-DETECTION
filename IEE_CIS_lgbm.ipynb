{
  "nbformat": 4,
  "nbformat_minor": 0,
  "metadata": {
    "colab": {
      "name": "IEE_CIS_lgbm.ipynb",
      "provenance": [],
      "collapsed_sections": []
    },
    "kernelspec": {
      "name": "python3",
      "display_name": "Python 3"
    },
    "accelerator": "TPU"
  },
  "cells": [
    {
      "cell_type": "code",
      "metadata": {
        "id": "wLFud-CN9LCV",
        "colab_type": "code",
        "outputId": "8a42b3b7-7093-41f9-ebff-701447c54cc1",
        "colab": {
          "base_uri": "https://localhost:8080/",
          "height": 122
        }
      },
      "source": [
        "from google.colab import drive      #mounting drive\n",
        "drive.mount('/content/drive')"
      ],
      "execution_count": 0,
      "outputs": [
        {
          "output_type": "stream",
          "text": [
            "Go to this URL in a browser: https://accounts.google.com/o/oauth2/auth?client_id=947318989803-6bn6qk8qdgf4n4g3pfee6491hc0brc4i.apps.googleusercontent.com&redirect_uri=urn%3aietf%3awg%3aoauth%3a2.0%3aoob&response_type=code&scope=email%20https%3a%2f%2fwww.googleapis.com%2fauth%2fdocs.test%20https%3a%2f%2fwww.googleapis.com%2fauth%2fdrive%20https%3a%2f%2fwww.googleapis.com%2fauth%2fdrive.photos.readonly%20https%3a%2f%2fwww.googleapis.com%2fauth%2fpeopleapi.readonly\n",
            "\n",
            "Enter your authorization code:\n",
            "··········\n",
            "Mounted at /content/drive\n"
          ],
          "name": "stdout"
        }
      ]
    },
    {
      "cell_type": "code",
      "metadata": {
        "id": "7_leA-jOtV8p",
        "colab_type": "code",
        "colab": {}
      },
      "source": [
        "import pandas as pd   #importing pandas\n",
        "import numpy as np    #importing numpy\n",
        "identity = pd.read_csv('/content/drive/My Drive/Fraud detection/train_identity.csv')   #reading identity data"
      ],
      "execution_count": 0,
      "outputs": []
    },
    {
      "cell_type": "code",
      "metadata": {
        "id": "Ilv10vO4tWVj",
        "colab_type": "code",
        "colab": {}
      },
      "source": [
        "transaction = pd.read_csv('/content/drive/My Drive/Fraud detection/train_transaction.csv')  #reading the transaction data"
      ],
      "execution_count": 0,
      "outputs": []
    },
    {
      "cell_type": "code",
      "metadata": {
        "id": "LUZRlOkatWpn",
        "colab_type": "code",
        "colab": {}
      },
      "source": [
        "train = transaction.merge(identity, how = 'left')  #merging transaction and identity data"
      ],
      "execution_count": 0,
      "outputs": []
    },
    {
      "cell_type": "code",
      "metadata": {
        "id": "T-wUb57ItWxS",
        "colab_type": "code",
        "colab": {}
      },
      "source": [
        "   def reduce_mem_usage(df):\n",
        "    \"\"\" iterate through all the columns of a dataframe and modify the data type\n",
        "        to reduce memory usage.        \n",
        "    \"\"\"\n",
        "    start_mem = df.memory_usage().sum() / 1024**2\n",
        "    print('Memory usage of dataframe is {:.2f} MB'.format(start_mem))\n",
        "    \n",
        "    for col in df.columns:\n",
        "        col_type = df[col].dtype\n",
        "        \n",
        "        if col_type != object:\n",
        "            c_min = df[col].min()\n",
        "            c_max = df[col].max()\n",
        "            if str(col_type)[:3] == 'int':\n",
        "                if c_min > np.iinfo(np.int8).min and c_max < np.iinfo(np.int8).max:\n",
        "                    df[col] = df[col].astype(np.int8)\n",
        "                elif c_min > np.iinfo(np.int16).min and c_max < np.iinfo(np.int16).max:\n",
        "                    df[col] = df[col].astype(np.int16)\n",
        "                elif c_min > np.iinfo(np.int32).min and c_max < np.iinfo(np.int32).max:\n",
        "                    df[col] = df[col].astype(np.int32)\n",
        "                elif c_min > np.iinfo(np.int64).min and c_max < np.iinfo(np.int64).max:\n",
        "                    df[col] = df[col].astype(np.int64)  \n",
        "            else:\n",
        "                if c_min > np.finfo(np.float16).min and c_max < np.finfo(np.float16).max:\n",
        "                    df[col] = df[col].astype(np.float16)\n",
        "                elif c_min > np.finfo(np.float32).min and c_max < np.finfo(np.float32).max:\n",
        "                    df[col] = df[col].astype(np.float32)\n",
        "                else:\n",
        "                    df[col] = df[col].astype(np.float64)\n",
        "        else:\n",
        "            df[col] = df[col].astype('category')\n",
        "\n",
        "    end_mem = df.memory_usage().sum() / 1024**2\n",
        "    print('Memory usage after optimization is: {:.2f} MB'.format(end_mem))\n",
        "    print('Decreased by {:.1f}%'.format(100 * (start_mem - end_mem) / start_mem))\n",
        "    \n",
        "    return df\n"
      ],
      "execution_count": 0,
      "outputs": []
    },
    {
      "cell_type": "code",
      "metadata": {
        "id": "hI49R4XvtXBY",
        "colab_type": "code",
        "colab": {}
      },
      "source": [
        "null_cols = [col for col in train.columns if train[col].isnull().sum() / train.shape[0] > 0.9]"
      ],
      "execution_count": 0,
      "outputs": []
    },
    {
      "cell_type": "code",
      "metadata": {
        "id": "Q1bResgKtWKl",
        "colab_type": "code",
        "colab": {}
      },
      "source": [
        "train.drop(null_cols,axis=1,inplace=True)"
      ],
      "execution_count": 0,
      "outputs": []
    },
    {
      "cell_type": "code",
      "metadata": {
        "id": "yAK00i9noCxV",
        "colab_type": "code",
        "colab": {}
      },
      "source": [
        "for i in train.columns:\n",
        "    if train[i].dtypes=='int64' or train[i].dtypes=='float64':   #filling null alues with mean for continuous variables\n",
        "        train[i].fillna(train[i].mean(),inplace=True)"
      ],
      "execution_count": 0,
      "outputs": []
    },
    {
      "cell_type": "code",
      "metadata": {
        "id": "TCKq9XL-oHpN",
        "colab_type": "code",
        "colab": {}
      },
      "source": [
        "for i in train.columns:\n",
        "    if train[i].dtypes=='object':     #filling null alues with mode for categorical variables\n",
        "        train[i].fillna(train[i].mode()[0],inplace=True)"
      ],
      "execution_count": 0,
      "outputs": []
    },
    {
      "cell_type": "code",
      "metadata": {
        "id": "tDwGwkDjtVrW",
        "colab_type": "code",
        "outputId": "0f77f426-dfbd-4432-ef17-487fdd06fc7c",
        "colab": {
          "base_uri": "https://localhost:8080/",
          "height": 34
        }
      },
      "source": [
        "train.shape"
      ],
      "execution_count": 0,
      "outputs": [
        {
          "output_type": "execute_result",
          "data": {
            "text/plain": [
              "(590540, 434)"
            ]
          },
          "metadata": {
            "tags": []
          },
          "execution_count": 9
        }
      ]
    },
    {
      "cell_type": "code",
      "metadata": {
        "id": "ug7dlV-sqIPh",
        "colab_type": "code",
        "colab": {}
      },
      "source": [
        "train['transaction_day_of_the_week'] = np.floor((train['TransactionDT'] / (3600 * 24) - 1) % 7)"
      ],
      "execution_count": 0,
      "outputs": []
    },
    {
      "cell_type": "code",
      "metadata": {
        "id": "sWdEQVypozvW",
        "colab_type": "code",
        "colab": {}
      },
      "source": [
        "train['Transaction_hour'] = np.floor(train['TransactionDT'] / 3600) % 24"
      ],
      "execution_count": 0,
      "outputs": []
    },
    {
      "cell_type": "code",
      "metadata": {
        "id": "h5J4JZEivMRM",
        "colab_type": "code",
        "colab": {}
      },
      "source": [
        "train['device_name'] = train['DeviceInfo'].str.split('/', expand=True)[0]  #categorical"
      ],
      "execution_count": 0,
      "outputs": []
    },
    {
      "cell_type": "code",
      "metadata": {
        "id": "HqWOGUKevMie",
        "colab_type": "code",
        "colab": {}
      },
      "source": [
        "train['device_version'] = train['DeviceInfo'].str.split('/', expand=True)[1]  #categorical"
      ],
      "execution_count": 0,
      "outputs": []
    },
    {
      "cell_type": "code",
      "metadata": {
        "id": "H12TtAfovMyp",
        "colab_type": "code",
        "colab": {}
      },
      "source": [
        "train['OS_id_30'] = train['id_30'].str.split(' ', expand=True)[0]   #categorical"
      ],
      "execution_count": 0,
      "outputs": []
    },
    {
      "cell_type": "code",
      "metadata": {
        "id": "05f7AilkvNGC",
        "colab_type": "code",
        "colab": {}
      },
      "source": [
        "train['version_id_30'] = train['id_30'].str.split(' ', expand=True)[1]   #categorical "
      ],
      "execution_count": 0,
      "outputs": []
    },
    {
      "cell_type": "code",
      "metadata": {
        "id": "YJWJT1Moz59S",
        "colab_type": "code",
        "colab": {}
      },
      "source": [
        "train['browser_id_31'] = train['id_31'].str.split(' ', expand=True)[0]   #categorical"
      ],
      "execution_count": 0,
      "outputs": []
    },
    {
      "cell_type": "code",
      "metadata": {
        "id": "I5tM9sUN0m6Z",
        "colab_type": "code",
        "colab": {}
      },
      "source": [
        "train['version_id_31'] = train['id_31'].str.split(' ', expand=True)[1]   #categorical"
      ],
      "execution_count": 0,
      "outputs": []
    },
    {
      "cell_type": "code",
      "metadata": {
        "id": "q9I2_QMW0nYX",
        "colab_type": "code",
        "colab": {}
      },
      "source": [
        "train['id_34'] = train['id_34'].str.split(':', expand=True)[1]"
      ],
      "execution_count": 0,
      "outputs": []
    },
    {
      "cell_type": "code",
      "metadata": {
        "id": "Sf1jRsiW1z_r",
        "colab_type": "code",
        "colab": {}
      },
      "source": [
        "train.loc[train['device_name'].str.contains('SM', na=False), 'device_name'] = 'Samsung'"
      ],
      "execution_count": 0,
      "outputs": []
    },
    {
      "cell_type": "code",
      "metadata": {
        "id": "GHW-OnbR2Av8",
        "colab_type": "code",
        "colab": {}
      },
      "source": [
        "train.loc[train['device_name'].str.contains('SAMSUNG', na=False), 'device_name'] = 'Samsung'"
      ],
      "execution_count": 0,
      "outputs": []
    },
    {
      "cell_type": "code",
      "metadata": {
        "id": "j11tAClx2A_P",
        "colab_type": "code",
        "colab": {}
      },
      "source": [
        "train.loc[train['device_name'].str.contains('GT-', na=False), 'device_name'] = 'Samsung'"
      ],
      "execution_count": 0,
      "outputs": []
    },
    {
      "cell_type": "code",
      "metadata": {
        "id": "fSvlwMmh10gP",
        "colab_type": "code",
        "colab": {}
      },
      "source": [
        "train.loc[train['device_name'].str.contains('Moto G', na=False), 'device_name'] = 'Motorola'"
      ],
      "execution_count": 0,
      "outputs": []
    },
    {
      "cell_type": "code",
      "metadata": {
        "id": "iKlztfi92mHp",
        "colab_type": "code",
        "colab": {}
      },
      "source": [
        "train.loc[train['device_name'].str.contains('Moto', na=False), 'device_name'] = 'Motorola'"
      ],
      "execution_count": 0,
      "outputs": []
    },
    {
      "cell_type": "code",
      "metadata": {
        "id": "AUuSDN3j2mi-",
        "colab_type": "code",
        "colab": {}
      },
      "source": [
        "train.loc[train['device_name'].str.contains('moto', na=False), 'device_name'] = 'Motorola'"
      ],
      "execution_count": 0,
      "outputs": []
    },
    {
      "cell_type": "code",
      "metadata": {
        "id": "DF4wbMDf2xAn",
        "colab_type": "code",
        "colab": {}
      },
      "source": [
        "train.loc[train['device_name'].str.contains('LG-', na=False), 'device_name'] = 'LG'"
      ],
      "execution_count": 0,
      "outputs": []
    },
    {
      "cell_type": "code",
      "metadata": {
        "id": "7eper4r42xNP",
        "colab_type": "code",
        "colab": {}
      },
      "source": [
        "train.loc[train['device_name'].str.contains('rv:', na=False), 'device_name'] = 'RV'"
      ],
      "execution_count": 0,
      "outputs": []
    },
    {
      "cell_type": "code",
      "metadata": {
        "id": "3v2rO6UK2xIz",
        "colab_type": "code",
        "colab": {}
      },
      "source": [
        "train.loc[train['device_name'].str.contains('HUAWEI', na=False), 'device_name'] = 'Huawei'"
      ],
      "execution_count": 0,
      "outputs": []
    },
    {
      "cell_type": "code",
      "metadata": {
        "id": "Xh2YdcNu2w5m",
        "colab_type": "code",
        "colab": {}
      },
      "source": [
        "train.loc[train['device_name'].str.contains('ALE-', na=False), 'device_name'] = 'Huawei'"
      ],
      "execution_count": 0,
      "outputs": []
    },
    {
      "cell_type": "code",
      "metadata": {
        "id": "Ku03IC6j3dJ4",
        "colab_type": "code",
        "colab": {}
      },
      "source": [
        "train.loc[train['device_name'].str.contains('-L', na=False), 'device_name'] = 'Huawei'"
      ],
      "execution_count": 0,
      "outputs": []
    },
    {
      "cell_type": "code",
      "metadata": {
        "id": "ShkcT0q_3duy",
        "colab_type": "code",
        "colab": {}
      },
      "source": [
        "train.loc[train['device_name'].str.contains('Blade', na=False), 'device_name'] = 'ZTE'"
      ],
      "execution_count": 0,
      "outputs": []
    },
    {
      "cell_type": "code",
      "metadata": {
        "id": "G1UZ90Br3dp3",
        "colab_type": "code",
        "colab": {}
      },
      "source": [
        "train.loc[train['device_name'].str.contains('BLADE', na=False), 'device_name'] = 'ZTE'"
      ],
      "execution_count": 0,
      "outputs": []
    },
    {
      "cell_type": "code",
      "metadata": {
        "id": "9LAZlEQM38ZT",
        "colab_type": "code",
        "colab": {}
      },
      "source": [
        "train.loc[train['device_name'].str.contains('Linux', na=False), 'device_name'] = 'Linux'"
      ],
      "execution_count": 0,
      "outputs": []
    },
    {
      "cell_type": "code",
      "metadata": {
        "id": "u18TY2z638Ul",
        "colab_type": "code",
        "colab": {}
      },
      "source": [
        "train.loc[train['device_name'].str.contains('XT', na=False), 'device_name'] = 'Sony'"
      ],
      "execution_count": 0,
      "outputs": []
    },
    {
      "cell_type": "code",
      "metadata": {
        "id": "UyqbJXMg38PP",
        "colab_type": "code",
        "colab": {}
      },
      "source": [
        "train.loc[train['device_name'].str.contains('HTC', na=False), 'device_name'] = 'HTC'"
      ],
      "execution_count": 0,
      "outputs": []
    },
    {
      "cell_type": "code",
      "metadata": {
        "id": "4WKMb6JX3dF6",
        "colab_type": "code",
        "colab": {}
      },
      "source": [
        "train.loc[train['device_name'].str.contains('ASUS', na=False), 'device_name'] = 'Asus'"
      ],
      "execution_count": 0,
      "outputs": []
    },
    {
      "cell_type": "code",
      "metadata": {
        "id": "u8oBwV_d3c85",
        "colab_type": "code",
        "colab": {}
      },
      "source": [
        "train.loc[train.device_name.isin(train.device_name.value_counts()[train.device_name.value_counts() < 200].index), 'device_name'] = \"Others\""
      ],
      "execution_count": 0,
      "outputs": []
    },
    {
      "cell_type": "code",
      "metadata": {
        "id": "4f_-NNZb5ONH",
        "colab_type": "code",
        "outputId": "16416a3a-86c3-44d9-f5ce-096f04e35ba9",
        "colab": {
          "base_uri": "https://localhost:8080/",
          "height": 221
        }
      },
      "source": [
        "train.loc[train['device_name']=='Others'].count()"
      ],
      "execution_count": 0,
      "outputs": [
        {
          "output_type": "execute_result",
          "data": {
            "text/plain": [
              "TransactionID     5530\n",
              "isFraud           5530\n",
              "TransactionDT     5530\n",
              "TransactionAmt    5530\n",
              "ProductCD         5530\n",
              "                  ... \n",
              "device_version    4140\n",
              "OS_id_30          5530\n",
              "version_id_30     5411\n",
              "browser_id_31     5530\n",
              "version_id_31     5209\n",
              "Length: 442, dtype: int64"
            ]
          },
          "metadata": {
            "tags": []
          },
          "execution_count": 37
        }
      ]
    },
    {
      "cell_type": "code",
      "metadata": {
        "id": "GWsE64RI_BDr",
        "colab_type": "code",
        "colab": {}
      },
      "source": [
        "#train.fillna(-999,inplace=True)"
      ],
      "execution_count": 0,
      "outputs": []
    },
    {
      "cell_type": "code",
      "metadata": {
        "id": "N927ZaW356yn",
        "colab_type": "code",
        "colab": {}
      },
      "source": [
        "train_vcol =[]\n",
        "for i in range(1,340):\n",
        "  train_vcol.append('V'+str(i))\n",
        "vcol=train[train_vcol] "
      ],
      "execution_count": 0,
      "outputs": []
    },
    {
      "cell_type": "code",
      "metadata": {
        "id": "1F7ejwpZCNl4",
        "colab_type": "code",
        "outputId": "1fe1f575-d05a-4b73-f6ad-1fdb751e8212",
        "colab": {
          "base_uri": "https://localhost:8080/",
          "height": 34
        }
      },
      "source": [
        "from sklearn.decomposition import PCA\n",
        "pca = PCA(n_components = 3)\n",
        "pca.fit(vcol)\n",
        "pca.explained_variance_ratio_.sum()"
      ],
      "execution_count": 0,
      "outputs": [
        {
          "output_type": "execute_result",
          "data": {
            "text/plain": [
              "0.9947927236500718"
            ]
          },
          "metadata": {
            "tags": []
          },
          "execution_count": 40
        }
      ]
    },
    {
      "cell_type": "code",
      "metadata": {
        "id": "F3zabAYECN9Z",
        "colab_type": "code",
        "colab": {}
      },
      "source": [
        "vcol1=pca.transform(vcol)"
      ],
      "execution_count": 0,
      "outputs": []
    },
    {
      "cell_type": "code",
      "metadata": {
        "id": "80mZobPhCoGC",
        "colab_type": "code",
        "colab": {}
      },
      "source": [
        "train.drop(vcol,axis=1,inplace=True)"
      ],
      "execution_count": 0,
      "outputs": []
    },
    {
      "cell_type": "code",
      "metadata": {
        "id": "yw6pt4Q2CodP",
        "colab_type": "code",
        "colab": {}
      },
      "source": [
        "vcol1 = pd.DataFrame(vcol1)"
      ],
      "execution_count": 0,
      "outputs": []
    },
    {
      "cell_type": "code",
      "metadata": {
        "id": "yDOM9D-OCo5f",
        "colab_type": "code",
        "colab": {}
      },
      "source": [
        "train=pd.concat([train,vcol1],axis=1)"
      ],
      "execution_count": 0,
      "outputs": []
    },
    {
      "cell_type": "code",
      "metadata": {
        "id": "NuMCWF0sCOht",
        "colab_type": "code",
        "outputId": "7c8540aa-bedb-43eb-9d1e-780e633d6770",
        "colab": {
          "base_uri": "https://localhost:8080/",
          "height": 68
        }
      },
      "source": [
        "train = reduce_mem_usage(train)"
      ],
      "execution_count": 0,
      "outputs": [
        {
          "output_type": "stream",
          "text": [
            "Memory usage of dataframe is 482.08 MB\n",
            "Memory usage after optimization is: 111.65 MB\n",
            "Decreased by 76.8%\n"
          ],
          "name": "stdout"
        }
      ]
    },
    {
      "cell_type": "code",
      "metadata": {
        "id": "m2fTSwZ6DA6I",
        "colab_type": "code",
        "outputId": "033f69dc-4cbb-4f7c-8290-9250384b09b4",
        "colab": {
          "base_uri": "https://localhost:8080/",
          "height": 34
        }
      },
      "source": [
        "train.shape"
      ],
      "execution_count": 0,
      "outputs": [
        {
          "output_type": "execute_result",
          "data": {
            "text/plain": [
              "(590540, 106)"
            ]
          },
          "metadata": {
            "tags": []
          },
          "execution_count": 46
        }
      ]
    },
    {
      "cell_type": "code",
      "metadata": {
        "id": "Hw8FLS_HDVhM",
        "colab_type": "code",
        "colab": {}
      },
      "source": [
        "cat_cols = ['id_12','id_15', 'id_16','id_28', 'id_29','id_30', 'id_31', 'id_33', 'id_34', 'id_35', \n",
        "            'id_36', 'id_37', 'id_38', 'DeviceType', 'DeviceInfo', 'ProductCD', 'card4', 'card6', 'M4','P_emaildomain',\n",
        "            'R_emaildomain', 'addr1', 'addr2', 'M1', 'M2', 'M3', 'M5', 'M6', 'M7', 'M8', 'M9','device_name','device_version','OS_id_30','version_id_30','browser_id_31','version_id_31']"
      ],
      "execution_count": 0,
      "outputs": []
    },
    {
      "cell_type": "code",
      "metadata": {
        "id": "N0pTTzayERcr",
        "colab_type": "code",
        "colab": {}
      },
      "source": [
        "from sklearn.preprocessing import LabelEncoder\n",
        "le = LabelEncoder()\n",
        "for i in cat_cols:\n",
        "  if i in train.columns:\n",
        "    train[i] = le.fit_transform(train[i].astype(str).values)"
      ],
      "execution_count": 0,
      "outputs": []
    },
    {
      "cell_type": "code",
      "metadata": {
        "id": "cJAR0Z2cESM-",
        "colab_type": "code",
        "outputId": "945b308a-a3af-4a75-8dcf-ac52fad23adf",
        "colab": {
          "base_uri": "https://localhost:8080/",
          "height": 34
        }
      },
      "source": [
        "y= train['isFraud']\n",
        "print(y.shape)"
      ],
      "execution_count": 0,
      "outputs": [
        {
          "output_type": "stream",
          "text": [
            "(590540,)\n"
          ],
          "name": "stdout"
        }
      ]
    },
    {
      "cell_type": "code",
      "metadata": {
        "id": "5XLT0VQqETFP",
        "colab_type": "code",
        "outputId": "300ae61f-903a-4579-cf80-dbfb94c9f95c",
        "colab": {
          "base_uri": "https://localhost:8080/",
          "height": 34
        }
      },
      "source": [
        "x = train.drop(['isFraud','TransactionID','TransactionDT'],axis=1)\n",
        "print(x.shape)"
      ],
      "execution_count": 0,
      "outputs": [
        {
          "output_type": "stream",
          "text": [
            "(590540, 103)\n"
          ],
          "name": "stdout"
        }
      ]
    },
    {
      "cell_type": "code",
      "metadata": {
        "id": "NR4eFboHE8zQ",
        "colab_type": "code",
        "colab": {}
      },
      "source": [
        "from sklearn.model_selection import train_test_split\n",
        "x_train,x_test,y_train,y_test = train_test_split(x,y,stratify = y,test_size = 0.3, random_state=1)"
      ],
      "execution_count": 0,
      "outputs": []
    },
    {
      "cell_type": "code",
      "metadata": {
        "id": "nRSOwAC2E9Nw",
        "colab_type": "code",
        "colab": {}
      },
      "source": [
        ""
      ],
      "execution_count": 0,
      "outputs": []
    },
    {
      "cell_type": "markdown",
      "metadata": {
        "id": "YITKOfw9PwPa",
        "colab_type": "text"
      },
      "source": [
        "##FINAL MODEL LGBM"
      ]
    },
    {
      "cell_type": "code",
      "metadata": {
        "id": "1Fg3jRq09Dgo",
        "colab_type": "code",
        "colab": {}
      },
      "source": [
        "%timeit\n",
        "import lightgbm as lgb\n",
        "d_train = lgb.Dataset(x_train,label=y_train)\n",
        "params={}\n",
        "params['task'] = 'train'                        #lgbm with different parameters\n",
        "params['boosting_type'] = \"gbdt\"\n",
        "params['application'] = 'classification'\n",
        "params['objective'] = 'binary'\n",
        "params['metric'] = 'auc'\n",
        "params['random_state'] = 1\n",
        "model = lgb.train(params, d_train, 5000)     #training lgbm model on training set"
      ],
      "execution_count": 0,
      "outputs": []
    },
    {
      "cell_type": "code",
      "metadata": {
        "id": "y-2d-ScKGj1C",
        "colab_type": "code",
        "colab": {}
      },
      "source": [
        "predict = model.predict(x_test)     #predicting test labels"
      ],
      "execution_count": 0,
      "outputs": []
    },
    {
      "cell_type": "code",
      "metadata": {
        "id": "qMDT_vIteeF_",
        "colab_type": "code",
        "colab": {}
      },
      "source": [
        "from sklearn.metrics import confusion_matrix\n",
        "from sklearn.metrics import roc_auc_score"
      ],
      "execution_count": 0,
      "outputs": []
    },
    {
      "cell_type": "code",
      "metadata": {
        "id": "Y_Qoxz1gYeYW",
        "colab_type": "code",
        "outputId": "b5ed2107-8ac4-4aa5-8565-e73497ac4d27",
        "colab": {
          "base_uri": "https://localhost:8080/",
          "height": 71
        }
      },
      "source": [
        "predict = model.predict(x_test)\n",
        "ROC=[]\n",
        "ACC = []\n",
        "for j in np.arange(0.1,0.99,step=.05):\n",
        "  predict2=np.array(list(predict))\n",
        "  for i in range(len(y_test)):\n",
        "    if predict[i]>=j:\n",
        "      predict2[i]=1               #checking auc and accuracy with different thresholds between 0 an 1\n",
        "    else:\n",
        "      predict2[i]=0\n",
        "  ROC.append(roc_auc_score(predict2,y_test))\n",
        "  conf = confusion_matrix(predict2,y_test)\n",
        "  ACC.append((conf[0,0]+conf[1,1]) / len(y_test))\n",
        "  #print(len(predict2[predict2 == 0]))\n",
        "print(ROC)\n",
        "print(ACC)"
      ],
      "execution_count": 0,
      "outputs": [
        {
          "output_type": "stream",
          "text": [
            "[0.9302753753615928, 0.9485467706655856, 0.9602037342527568, 0.9660878121211537, 0.9706090091674113, 0.9735533991721486, 0.9760711415081021, 0.9775335273508138, 0.9789851618768135, 0.9800854456122826, 0.9805619021484808, 0.982007629701373, 0.9833873381794951, 0.9849311239100023, 0.9854839690685916, 0.9860209819858387, 0.9866843608117205, 0.9867331028285101]\n",
            "[0.9881182194827333, 0.9887899210891726, 0.9891116605141057, 0.9890213476930719, 0.9888745893588918, 0.9886600964089365, 0.9884681816642396, 0.9881633758932502, 0.9878811483275195, 0.9876158544157325, 0.9872433140289678, 0.9870118874250686, 0.9866506361409332, 0.9862498729975954, 0.9857475079305946, 0.9850080717083799, 0.9841500999085583, 0.9822930425260497]\n"
          ],
          "name": "stdout"
        }
      ]
    },
    {
      "cell_type": "code",
      "metadata": {
        "id": "x3m08zt4j-7J",
        "colab_type": "code",
        "outputId": "0496c421-2f7f-47c3-c9f9-191408141f4e",
        "colab": {
          "base_uri": "https://localhost:8080/",
          "height": 282
        }
      },
      "source": [
        "import matplotlib.pyplot as plt\n",
        "from matplotlib import style\n",
        "style.use('ggplot')\n",
        "plt.ylabel('AUC SCORE')           #plotting auc and roc with different thresholds points\n",
        "plt.xlabel('Cut off')\n",
        "plt.plot(np.arange(0.1,0.99,step=.05),ROC,label='AUC')\n",
        "plt.plot(np.arange(0.1,0.99,step=.05),ACC,label='Acurracy')\n",
        "plt.legend()\n",
        "plt.show()"
      ],
      "execution_count": 0,
      "outputs": [
        {
          "output_type": "display_data",
          "data": {
            "image/png": "[encoded data removed]",
            "text/plain": [
              "<Figure size 432x288 with 1 Axes>"
            ]
          },
          "metadata": {
            "tags": []
          }
        }
      ]
    },
    {
      "cell_type": "code",
      "metadata": {
        "id": "xbgQXywK_Wjf",
        "colab_type": "code",
        "colab": {}
      },
      "source": [
        "predict3 = np.array(list(predict))\n",
        "for i in range(len(y_test)):\n",
        "  if predict[i]>=0.2:            #setting the threshold at 0.2\n",
        "    predict3[i]=1\n",
        "  else:\n",
        "    predict3[i]=0"
      ],
      "execution_count": 0,
      "outputs": []
    },
    {
      "cell_type": "code",
      "metadata": {
        "id": "2SarohQu9Ljk",
        "colab_type": "code",
        "outputId": "4f1baf43-fec6-4f10-dbd2-b9ca459b251a",
        "colab": {
          "base_uri": "https://localhost:8080/",
          "height": 299
        }
      },
      "source": [
        "import matplotlib.pyplot as plt\n",
        "import seaborn as sns\n",
        "from sklearn.metrics import confusion_matrix\n",
        "cm = confusion_matrix(y_test,predict3)\n",
        "sns.heatmap(cm,annot=True,fmt='.2f')\n",
        "plt.title('confusion_matrix')         #checking the confusion matrix\n",
        "plt.xlabel('Actual Class')\n",
        "plt.ylabel('predicted class')\n",
        "plt.show()"
      ],
      "execution_count": 0,
      "outputs": [
        {
          "output_type": "display_data",
          "data": {
            "image/png": "[encoded data removed]",
            "text/plain": [
              "<Figure size 432x288 with 2 Axes>"
            ]
          },
          "metadata": {
            "tags": []
          }
        }
      ]
    },
    {
      "cell_type": "code",
      "metadata": {
        "id": "1EBRagWPtOVM",
        "colab_type": "code",
        "outputId": "c4953a89-f5fa-4d56-8056-5b6296576142",
        "colab": {
          "base_uri": "https://localhost:8080/",
          "height": 34
        }
      },
      "source": [
        "roc_auc_score(y_test,predict3)    #checking the roc_auc_score"
      ],
      "execution_count": 0,
      "outputs": [
        {
          "output_type": "execute_result",
          "data": {
            "text/plain": [
              "0.8716171352113795"
            ]
          },
          "metadata": {
            "tags": []
          },
          "execution_count": 91
        }
      ]
    },
    {
      "cell_type": "markdown",
      "metadata": {
        "id": "p4mTxjj4vcli",
        "colab_type": "text"
      },
      "source": [
        "#CONCLUSION\n",
        "Using LGBM and with some feature engineering we have build a model that can predict the class of transaction as fraudulent or non-fraudulent with the confidence of 87.1%"
      ]
    }
  ]
}